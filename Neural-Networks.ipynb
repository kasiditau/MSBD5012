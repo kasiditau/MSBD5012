{
 "cells": [
  {
   "cell_type": "code",
   "execution_count": 1,
   "metadata": {},
   "outputs": [
    {
     "name": "stderr",
     "output_type": "stream",
     "text": [
      "Using TensorFlow backend.\n"
     ]
    }
   ],
   "source": [
    "# Initial Setup\n",
    "\n",
    "import numpy as np\n",
    "import pandas as pd                \n",
    "import keras\n",
    "from keras.models import Sequential\n",
    "import matplotlib.pyplot as plt    \n",
    "from keras.layers import Dense\n",
    "import os\n"
   ]
  },
  {
   "cell_type": "code",
   "execution_count": 2,
   "metadata": {},
   "outputs": [
    {
     "data": {
      "text/plain": [
       "(70000, 13)"
      ]
     },
     "execution_count": 2,
     "metadata": {},
     "output_type": "execute_result"
    }
   ],
   "source": [
    "# Load the Data\n",
    "\n",
    "df = pd.read_csv(\"new_cardio_train.csv\")\n",
    "\n",
    "df.shape\n"
   ]
  },
  {
   "cell_type": "code",
   "execution_count": 3,
   "metadata": {},
   "outputs": [
    {
     "data": {
      "text/html": [
       "<div>\n",
       "<style scoped>\n",
       "    .dataframe tbody tr th:only-of-type {\n",
       "        vertical-align: middle;\n",
       "    }\n",
       "\n",
       "    .dataframe tbody tr th {\n",
       "        vertical-align: top;\n",
       "    }\n",
       "\n",
       "    .dataframe thead th {\n",
       "        text-align: right;\n",
       "    }\n",
       "</style>\n",
       "<table border=\"1\" class=\"dataframe\">\n",
       "  <thead>\n",
       "    <tr style=\"text-align: right;\">\n",
       "      <th></th>\n",
       "      <th>id</th>\n",
       "      <th>age</th>\n",
       "      <th>gender</th>\n",
       "      <th>height</th>\n",
       "      <th>weight</th>\n",
       "      <th>ap_hi</th>\n",
       "      <th>ap_lo</th>\n",
       "      <th>cholesterol</th>\n",
       "      <th>gluc</th>\n",
       "      <th>smoke</th>\n",
       "      <th>alco</th>\n",
       "      <th>active</th>\n",
       "      <th>cardio</th>\n",
       "    </tr>\n",
       "  </thead>\n",
       "  <tbody>\n",
       "    <tr>\n",
       "      <td>0</td>\n",
       "      <td>0</td>\n",
       "      <td>18393</td>\n",
       "      <td>2</td>\n",
       "      <td>168</td>\n",
       "      <td>62.0</td>\n",
       "      <td>110</td>\n",
       "      <td>80</td>\n",
       "      <td>1</td>\n",
       "      <td>1</td>\n",
       "      <td>0</td>\n",
       "      <td>0</td>\n",
       "      <td>1</td>\n",
       "      <td>0</td>\n",
       "    </tr>\n",
       "    <tr>\n",
       "      <td>1</td>\n",
       "      <td>1</td>\n",
       "      <td>20228</td>\n",
       "      <td>1</td>\n",
       "      <td>156</td>\n",
       "      <td>85.0</td>\n",
       "      <td>140</td>\n",
       "      <td>90</td>\n",
       "      <td>3</td>\n",
       "      <td>1</td>\n",
       "      <td>0</td>\n",
       "      <td>0</td>\n",
       "      <td>1</td>\n",
       "      <td>1</td>\n",
       "    </tr>\n",
       "    <tr>\n",
       "      <td>2</td>\n",
       "      <td>2</td>\n",
       "      <td>18857</td>\n",
       "      <td>1</td>\n",
       "      <td>165</td>\n",
       "      <td>64.0</td>\n",
       "      <td>130</td>\n",
       "      <td>70</td>\n",
       "      <td>3</td>\n",
       "      <td>1</td>\n",
       "      <td>0</td>\n",
       "      <td>0</td>\n",
       "      <td>0</td>\n",
       "      <td>1</td>\n",
       "    </tr>\n",
       "    <tr>\n",
       "      <td>3</td>\n",
       "      <td>3</td>\n",
       "      <td>17623</td>\n",
       "      <td>2</td>\n",
       "      <td>169</td>\n",
       "      <td>82.0</td>\n",
       "      <td>150</td>\n",
       "      <td>100</td>\n",
       "      <td>1</td>\n",
       "      <td>1</td>\n",
       "      <td>0</td>\n",
       "      <td>0</td>\n",
       "      <td>1</td>\n",
       "      <td>1</td>\n",
       "    </tr>\n",
       "    <tr>\n",
       "      <td>4</td>\n",
       "      <td>4</td>\n",
       "      <td>17474</td>\n",
       "      <td>1</td>\n",
       "      <td>156</td>\n",
       "      <td>56.0</td>\n",
       "      <td>100</td>\n",
       "      <td>60</td>\n",
       "      <td>1</td>\n",
       "      <td>1</td>\n",
       "      <td>0</td>\n",
       "      <td>0</td>\n",
       "      <td>0</td>\n",
       "      <td>0</td>\n",
       "    </tr>\n",
       "  </tbody>\n",
       "</table>\n",
       "</div>"
      ],
      "text/plain": [
       "   id    age  gender  height  weight  ap_hi  ap_lo  cholesterol  gluc  smoke  \\\n",
       "0   0  18393       2     168    62.0    110     80            1     1      0   \n",
       "1   1  20228       1     156    85.0    140     90            3     1      0   \n",
       "2   2  18857       1     165    64.0    130     70            3     1      0   \n",
       "3   3  17623       2     169    82.0    150    100            1     1      0   \n",
       "4   4  17474       1     156    56.0    100     60            1     1      0   \n",
       "\n",
       "   alco  active  cardio  \n",
       "0     0       1       0  \n",
       "1     0       1       1  \n",
       "2     0       0       1  \n",
       "3     0       1       1  \n",
       "4     0       0       0  "
      ]
     },
     "execution_count": 3,
     "metadata": {},
     "output_type": "execute_result"
    }
   ],
   "source": [
    "df.head()\n"
   ]
  },
  {
   "cell_type": "code",
   "execution_count": 4,
   "metadata": {},
   "outputs": [
    {
     "data": {
      "text/html": [
       "<div>\n",
       "<style scoped>\n",
       "    .dataframe tbody tr th:only-of-type {\n",
       "        vertical-align: middle;\n",
       "    }\n",
       "\n",
       "    .dataframe tbody tr th {\n",
       "        vertical-align: top;\n",
       "    }\n",
       "\n",
       "    .dataframe thead th {\n",
       "        text-align: right;\n",
       "    }\n",
       "</style>\n",
       "<table border=\"1\" class=\"dataframe\">\n",
       "  <thead>\n",
       "    <tr style=\"text-align: right;\">\n",
       "      <th></th>\n",
       "      <th>age</th>\n",
       "      <th>gender</th>\n",
       "      <th>height</th>\n",
       "      <th>weight</th>\n",
       "      <th>ap_hi</th>\n",
       "      <th>ap_lo</th>\n",
       "      <th>cholesterol</th>\n",
       "      <th>gluc</th>\n",
       "      <th>smoke</th>\n",
       "      <th>alco</th>\n",
       "      <th>active</th>\n",
       "      <th>cardio</th>\n",
       "    </tr>\n",
       "  </thead>\n",
       "  <tbody>\n",
       "    <tr>\n",
       "      <td>0</td>\n",
       "      <td>18393</td>\n",
       "      <td>2</td>\n",
       "      <td>168</td>\n",
       "      <td>62.0</td>\n",
       "      <td>110</td>\n",
       "      <td>80</td>\n",
       "      <td>1</td>\n",
       "      <td>1</td>\n",
       "      <td>0</td>\n",
       "      <td>0</td>\n",
       "      <td>1</td>\n",
       "      <td>0</td>\n",
       "    </tr>\n",
       "    <tr>\n",
       "      <td>1</td>\n",
       "      <td>20228</td>\n",
       "      <td>1</td>\n",
       "      <td>156</td>\n",
       "      <td>85.0</td>\n",
       "      <td>140</td>\n",
       "      <td>90</td>\n",
       "      <td>3</td>\n",
       "      <td>1</td>\n",
       "      <td>0</td>\n",
       "      <td>0</td>\n",
       "      <td>1</td>\n",
       "      <td>1</td>\n",
       "    </tr>\n",
       "    <tr>\n",
       "      <td>2</td>\n",
       "      <td>18857</td>\n",
       "      <td>1</td>\n",
       "      <td>165</td>\n",
       "      <td>64.0</td>\n",
       "      <td>130</td>\n",
       "      <td>70</td>\n",
       "      <td>3</td>\n",
       "      <td>1</td>\n",
       "      <td>0</td>\n",
       "      <td>0</td>\n",
       "      <td>0</td>\n",
       "      <td>1</td>\n",
       "    </tr>\n",
       "    <tr>\n",
       "      <td>3</td>\n",
       "      <td>17623</td>\n",
       "      <td>2</td>\n",
       "      <td>169</td>\n",
       "      <td>82.0</td>\n",
       "      <td>150</td>\n",
       "      <td>100</td>\n",
       "      <td>1</td>\n",
       "      <td>1</td>\n",
       "      <td>0</td>\n",
       "      <td>0</td>\n",
       "      <td>1</td>\n",
       "      <td>1</td>\n",
       "    </tr>\n",
       "    <tr>\n",
       "      <td>4</td>\n",
       "      <td>17474</td>\n",
       "      <td>1</td>\n",
       "      <td>156</td>\n",
       "      <td>56.0</td>\n",
       "      <td>100</td>\n",
       "      <td>60</td>\n",
       "      <td>1</td>\n",
       "      <td>1</td>\n",
       "      <td>0</td>\n",
       "      <td>0</td>\n",
       "      <td>0</td>\n",
       "      <td>0</td>\n",
       "    </tr>\n",
       "  </tbody>\n",
       "</table>\n",
       "</div>"
      ],
      "text/plain": [
       "     age  gender  height  weight  ap_hi  ap_lo  cholesterol  gluc  smoke  \\\n",
       "0  18393       2     168    62.0    110     80            1     1      0   \n",
       "1  20228       1     156    85.0    140     90            3     1      0   \n",
       "2  18857       1     165    64.0    130     70            3     1      0   \n",
       "3  17623       2     169    82.0    150    100            1     1      0   \n",
       "4  17474       1     156    56.0    100     60            1     1      0   \n",
       "\n",
       "   alco  active  cardio  \n",
       "0     0       1       0  \n",
       "1     0       1       1  \n",
       "2     0       0       1  \n",
       "3     0       1       1  \n",
       "4     0       0       0  "
      ]
     },
     "execution_count": 4,
     "metadata": {},
     "output_type": "execute_result"
    }
   ],
   "source": [
    "# Delete ID column, since it's not necessary for prediction\n",
    "\n",
    "del df['id']\n",
    "\n",
    "df.head()\n"
   ]
  },
  {
   "cell_type": "code",
   "execution_count": 5,
   "metadata": {},
   "outputs": [
    {
     "data": {
      "text/html": [
       "<div>\n",
       "<style scoped>\n",
       "    .dataframe tbody tr th:only-of-type {\n",
       "        vertical-align: middle;\n",
       "    }\n",
       "\n",
       "    .dataframe tbody tr th {\n",
       "        vertical-align: top;\n",
       "    }\n",
       "\n",
       "    .dataframe thead th {\n",
       "        text-align: right;\n",
       "    }\n",
       "</style>\n",
       "<table border=\"1\" class=\"dataframe\">\n",
       "  <thead>\n",
       "    <tr style=\"text-align: right;\">\n",
       "      <th></th>\n",
       "      <th>age</th>\n",
       "      <th>gender</th>\n",
       "      <th>height</th>\n",
       "      <th>weight</th>\n",
       "      <th>ap_hi</th>\n",
       "      <th>ap_lo</th>\n",
       "      <th>cholesterol</th>\n",
       "      <th>gluc</th>\n",
       "      <th>smoke</th>\n",
       "      <th>alco</th>\n",
       "      <th>active</th>\n",
       "      <th>cardio</th>\n",
       "    </tr>\n",
       "  </thead>\n",
       "  <tbody>\n",
       "    <tr>\n",
       "      <td>0</td>\n",
       "      <td>50</td>\n",
       "      <td>2</td>\n",
       "      <td>168</td>\n",
       "      <td>62.0</td>\n",
       "      <td>110</td>\n",
       "      <td>80</td>\n",
       "      <td>1</td>\n",
       "      <td>1</td>\n",
       "      <td>0</td>\n",
       "      <td>0</td>\n",
       "      <td>1</td>\n",
       "      <td>0</td>\n",
       "    </tr>\n",
       "    <tr>\n",
       "      <td>1</td>\n",
       "      <td>55</td>\n",
       "      <td>1</td>\n",
       "      <td>156</td>\n",
       "      <td>85.0</td>\n",
       "      <td>140</td>\n",
       "      <td>90</td>\n",
       "      <td>3</td>\n",
       "      <td>1</td>\n",
       "      <td>0</td>\n",
       "      <td>0</td>\n",
       "      <td>1</td>\n",
       "      <td>1</td>\n",
       "    </tr>\n",
       "    <tr>\n",
       "      <td>2</td>\n",
       "      <td>51</td>\n",
       "      <td>1</td>\n",
       "      <td>165</td>\n",
       "      <td>64.0</td>\n",
       "      <td>130</td>\n",
       "      <td>70</td>\n",
       "      <td>3</td>\n",
       "      <td>1</td>\n",
       "      <td>0</td>\n",
       "      <td>0</td>\n",
       "      <td>0</td>\n",
       "      <td>1</td>\n",
       "    </tr>\n",
       "    <tr>\n",
       "      <td>3</td>\n",
       "      <td>48</td>\n",
       "      <td>2</td>\n",
       "      <td>169</td>\n",
       "      <td>82.0</td>\n",
       "      <td>150</td>\n",
       "      <td>100</td>\n",
       "      <td>1</td>\n",
       "      <td>1</td>\n",
       "      <td>0</td>\n",
       "      <td>0</td>\n",
       "      <td>1</td>\n",
       "      <td>1</td>\n",
       "    </tr>\n",
       "    <tr>\n",
       "      <td>4</td>\n",
       "      <td>47</td>\n",
       "      <td>1</td>\n",
       "      <td>156</td>\n",
       "      <td>56.0</td>\n",
       "      <td>100</td>\n",
       "      <td>60</td>\n",
       "      <td>1</td>\n",
       "      <td>1</td>\n",
       "      <td>0</td>\n",
       "      <td>0</td>\n",
       "      <td>0</td>\n",
       "      <td>0</td>\n",
       "    </tr>\n",
       "  </tbody>\n",
       "</table>\n",
       "</div>"
      ],
      "text/plain": [
       "   age  gender  height  weight  ap_hi  ap_lo  cholesterol  gluc  smoke  alco  \\\n",
       "0   50       2     168    62.0    110     80            1     1      0     0   \n",
       "1   55       1     156    85.0    140     90            3     1      0     0   \n",
       "2   51       1     165    64.0    130     70            3     1      0     0   \n",
       "3   48       2     169    82.0    150    100            1     1      0     0   \n",
       "4   47       1     156    56.0    100     60            1     1      0     0   \n",
       "\n",
       "   active  cardio  \n",
       "0       1       0  \n",
       "1       1       1  \n",
       "2       0       1  \n",
       "3       1       1  \n",
       "4       0       0  "
      ]
     },
     "execution_count": 5,
     "metadata": {},
     "output_type": "execute_result"
    }
   ],
   "source": [
    "# Convert age in Days to Years\n",
    "\n",
    "df['age'] = df['age'].map(lambda x : x // 365)\n",
    "\n",
    "df.head(5)\n"
   ]
  },
  {
   "cell_type": "code",
   "execution_count": 6,
   "metadata": {},
   "outputs": [
    {
     "data": {
      "text/plain": [
       "False"
      ]
     },
     "execution_count": 6,
     "metadata": {},
     "output_type": "execute_result"
    }
   ],
   "source": [
    "# Check for Null Values\n",
    "\n",
    "df.isnull().values.any()\n"
   ]
  },
  {
   "cell_type": "code",
   "execution_count": 7,
   "metadata": {},
   "outputs": [
    {
     "data": {
      "image/png": "[encoded data removed]",
      "text/plain": [
       "<Figure size 720x864 with 12 Axes>"
      ]
     },
     "metadata": {
      "needs_background": "light"
     },
     "output_type": "display_data"
    }
   ],
   "source": [
    "# Distribution\n",
    "\n",
    "df.hist(figsize=(10,12))\n",
    "plt.show()\n"
   ]
  },
  {
   "cell_type": "code",
   "execution_count": 8,
   "metadata": {},
   "outputs": [
    {
     "data": {
      "image/png": "[encoded data removed]",
      "text/plain": [
       "<Figure size 432x288 with 1 Axes>"
      ]
     },
     "metadata": {
      "needs_background": "light"
     },
     "output_type": "display_data"
    }
   ],
   "source": [
    "# Visualize Data Values Range\n",
    "\n",
    "dataset_plot = df\n",
    "dataset_plot[['active','age','alco','ap_hi','ap_lo','cholesterol','gender','gluc','height','smoke','weight']].head(100).plot(style=['o','x','r--','g^'])\n",
    "plt.legend(bbox_to_anchor=(0.,1.02,1., .102), loc=3,ncol=2, mode=\"expand\", fontsize=\"x-large\", borderaxespad=0.)\n",
    "plt.show()\n"
   ]
  },
  {
   "cell_type": "code",
   "execution_count": 9,
   "metadata": {},
   "outputs": [],
   "source": [
    "X = df.drop(['cardio'], axis=1)\n",
    "Y = df['cardio']\n"
   ]
  },
  {
   "cell_type": "code",
   "execution_count": 10,
   "metadata": {},
   "outputs": [],
   "source": [
    "# Create Model\n",
    "\n",
    "model = Sequential()\n",
    "model.add(Dense(32, input_dim=11, activation='relu'))\n",
    "model.add(Dense(8, activation='relu'))\n",
    "model.add(Dense(1, activation='sigmoid'))\n"
   ]
  },
  {
   "cell_type": "code",
   "execution_count": 11,
   "metadata": {},
   "outputs": [],
   "source": [
    "# Compile\n",
    "\n",
    "model.compile(loss='binary_crossentropy', optimizer='adam', metrics=['accuracy'])\n",
    "tbCallBack = keras.callbacks.TensorBoard(histogram_freq=0, write_graph=True, write_images=True)\n"
   ]
  },
  {
   "cell_type": "code",
   "execution_count": 12,
   "metadata": {
    "scrolled": false
   },
   "outputs": [
    {
     "name": "stdout",
     "output_type": "stream",
     "text": [
      "Train on 56000 samples, validate on 14000 samples\n",
      "Epoch 1/100\n",
      "56000/56000 [==============================] - 4s 64us/step - loss: 0.8726 - accuracy: 0.6738 - val_loss: 0.6718 - val_accuracy: 0.6482\n",
      "Epoch 2/100\n",
      "56000/56000 [==============================] - 3s 62us/step - loss: 0.6388 - accuracy: 0.6993 - val_loss: 0.5784 - val_accuracy: 0.7149\n",
      "Epoch 3/100\n",
      "56000/56000 [==============================] - 3s 62us/step - loss: 0.6062 - accuracy: 0.7031 - val_loss: 0.5825 - val_accuracy: 0.7133\n",
      "Epoch 4/100\n",
      "56000/56000 [==============================] - 4s 66us/step - loss: 0.5859 - accuracy: 0.7061 - val_loss: 0.5808 - val_accuracy: 0.7062\n",
      "Epoch 5/100\n",
      "56000/56000 [==============================] - 4s 68us/step - loss: 0.5786 - accuracy: 0.7109 - val_loss: 0.5758 - val_accuracy: 0.7082\n",
      "Epoch 6/100\n",
      "56000/56000 [==============================] - 4s 71us/step - loss: 0.5717 - accuracy: 0.7136 - val_loss: 0.5733 - val_accuracy: 0.7096\n",
      "Epoch 7/100\n",
      "56000/56000 [==============================] - 4s 65us/step - loss: 0.5713 - accuracy: 0.7134 - val_loss: 0.5695 - val_accuracy: 0.7154\n",
      "Epoch 8/100\n",
      "56000/56000 [==============================] - 4s 66us/step - loss: 0.5672 - accuracy: 0.7151 - val_loss: 0.5750 - val_accuracy: 0.7113\n",
      "Epoch 9/100\n",
      "56000/56000 [==============================] - 3s 62us/step - loss: 0.5663 - accuracy: 0.7150 - val_loss: 0.5705 - val_accuracy: 0.7139\n",
      "Epoch 10/100\n",
      "56000/56000 [==============================] - 4s 64us/step - loss: 0.5658 - accuracy: 0.7166 - val_loss: 0.5671 - val_accuracy: 0.7179\n",
      "Epoch 11/100\n",
      "56000/56000 [==============================] - 3s 62us/step - loss: 0.5650 - accuracy: 0.7177 - val_loss: 0.5722 - val_accuracy: 0.7106\n",
      "Epoch 12/100\n",
      "56000/56000 [==============================] - 4s 63us/step - loss: 0.5649 - accuracy: 0.7180 - val_loss: 0.5688 - val_accuracy: 0.7151\n",
      "Epoch 13/100\n",
      "56000/56000 [==============================] - 4s 67us/step - loss: 0.5633 - accuracy: 0.7185 - val_loss: 0.5643 - val_accuracy: 0.7189\n",
      "Epoch 14/100\n",
      "56000/56000 [==============================] - 3s 61us/step - loss: 0.5641 - accuracy: 0.7186 - val_loss: 0.5623 - val_accuracy: 0.7209\n",
      "Epoch 15/100\n",
      "56000/56000 [==============================] - 3s 61us/step - loss: 0.5622 - accuracy: 0.7183 - val_loss: 0.5723 - val_accuracy: 0.7103\n",
      "Epoch 16/100\n",
      "56000/56000 [==============================] - 3s 61us/step - loss: 0.5623 - accuracy: 0.7190 - val_loss: 0.5758 - val_accuracy: 0.7084\n",
      "Epoch 17/100\n",
      "56000/56000 [==============================] - 3s 61us/step - loss: 0.5616 - accuracy: 0.7189 - val_loss: 0.5710 - val_accuracy: 0.7114\n",
      "Epoch 18/100\n",
      "56000/56000 [==============================] - 3s 62us/step - loss: 0.5613 - accuracy: 0.7194 - val_loss: 0.5713 - val_accuracy: 0.7080\n",
      "Epoch 19/100\n",
      "56000/56000 [==============================] - 3s 62us/step - loss: 0.5617 - accuracy: 0.7201 - val_loss: 0.5630 - val_accuracy: 0.7205\n",
      "Epoch 20/100\n",
      "56000/56000 [==============================] - 3s 62us/step - loss: 0.5615 - accuracy: 0.7205 - val_loss: 0.5625 - val_accuracy: 0.7228\n",
      "Epoch 21/100\n",
      "56000/56000 [==============================] - 4s 63us/step - loss: 0.5609 - accuracy: 0.7207 - val_loss: 0.5610 - val_accuracy: 0.7224\n",
      "Epoch 22/100\n",
      "56000/56000 [==============================] - 4s 66us/step - loss: 0.5597 - accuracy: 0.7206 - val_loss: 0.5665 - val_accuracy: 0.7165\n",
      "Epoch 23/100\n",
      "56000/56000 [==============================] - 4s 65us/step - loss: 0.5604 - accuracy: 0.7218 - val_loss: 0.5638 - val_accuracy: 0.7219\n",
      "Epoch 24/100\n",
      "56000/56000 [==============================] - 3s 62us/step - loss: 0.5597 - accuracy: 0.7213 - val_loss: 0.5648 - val_accuracy: 0.7169\n",
      "Epoch 25/100\n",
      "56000/56000 [==============================] - 3s 62us/step - loss: 0.5593 - accuracy: 0.7210 - val_loss: 0.5678 - val_accuracy: 0.7131\n",
      "Epoch 26/100\n",
      "56000/56000 [==============================] - 3s 62us/step - loss: 0.5592 - accuracy: 0.7214 - val_loss: 0.5734 - val_accuracy: 0.7077\n",
      "Epoch 27/100\n",
      "56000/56000 [==============================] - 3s 62us/step - loss: 0.5593 - accuracy: 0.7206 - val_loss: 0.5654 - val_accuracy: 0.7214\n",
      "Epoch 28/100\n",
      "56000/56000 [==============================] - 3s 61us/step - loss: 0.5587 - accuracy: 0.7219 - val_loss: 0.5784 - val_accuracy: 0.7064\n",
      "Epoch 29/100\n",
      "56000/56000 [==============================] - 3s 61us/step - loss: 0.5588 - accuracy: 0.7219 - val_loss: 0.5645 - val_accuracy: 0.7179\n",
      "Epoch 30/100\n",
      "56000/56000 [==============================] - 3s 62us/step - loss: 0.5587 - accuracy: 0.7232 - val_loss: 0.5633 - val_accuracy: 0.7186\n",
      "Epoch 31/100\n",
      "56000/56000 [==============================] - 3s 62us/step - loss: 0.5581 - accuracy: 0.7219 - val_loss: 0.5724 - val_accuracy: 0.7114\n",
      "Epoch 32/100\n",
      "56000/56000 [==============================] - 3s 62us/step - loss: 0.5596 - accuracy: 0.7225 - val_loss: 0.5602 - val_accuracy: 0.7206\n",
      "Epoch 33/100\n",
      "56000/56000 [==============================] - 3s 62us/step - loss: 0.5577 - accuracy: 0.7238 - val_loss: 0.5608 - val_accuracy: 0.7209\n",
      "Epoch 34/100\n",
      "56000/56000 [==============================] - 3s 62us/step - loss: 0.5575 - accuracy: 0.7231 - val_loss: 0.5600 - val_accuracy: 0.7211\n",
      "Epoch 35/100\n",
      "56000/56000 [==============================] - 4s 64us/step - loss: 0.5574 - accuracy: 0.7227 - val_loss: 0.5611 - val_accuracy: 0.7249\n",
      "Epoch 36/100\n",
      "56000/56000 [==============================] - 4s 65us/step - loss: 0.5577 - accuracy: 0.7209 - val_loss: 0.5648 - val_accuracy: 0.7154\n",
      "Epoch 37/100\n",
      "56000/56000 [==============================] - 4s 63us/step - loss: 0.5576 - accuracy: 0.7215 - val_loss: 0.5891 - val_accuracy: 0.6896\n",
      "Epoch 38/100\n",
      "56000/56000 [==============================] - 4s 63us/step - loss: 0.5576 - accuracy: 0.7249 - val_loss: 0.5621 - val_accuracy: 0.7204\n",
      "Epoch 39/100\n",
      "56000/56000 [==============================] - 3s 62us/step - loss: 0.5579 - accuracy: 0.7224 - val_loss: 0.5586 - val_accuracy: 0.7248\n",
      "Epoch 40/100\n",
      "56000/56000 [==============================] - 3s 62us/step - loss: 0.5564 - accuracy: 0.7232 - val_loss: 0.5606 - val_accuracy: 0.7190\n",
      "Epoch 41/100\n",
      "56000/56000 [==============================] - 3s 61us/step - loss: 0.5559 - accuracy: 0.7248 - val_loss: 0.5595 - val_accuracy: 0.7215\n",
      "Epoch 42/100\n",
      "56000/56000 [==============================] - 3s 61us/step - loss: 0.5567 - accuracy: 0.7227 - val_loss: 0.5606 - val_accuracy: 0.7233\n",
      "Epoch 43/100\n",
      "56000/56000 [==============================] - 3s 60us/step - loss: 0.5561 - accuracy: 0.7242 - val_loss: 0.5614 - val_accuracy: 0.7231\n",
      "Epoch 44/100\n",
      "56000/56000 [==============================] - 3s 62us/step - loss: 0.5565 - accuracy: 0.7240 - val_loss: 0.5611 - val_accuracy: 0.7216\n",
      "Epoch 45/100\n",
      "56000/56000 [==============================] - 4s 63us/step - loss: 0.5567 - accuracy: 0.7233 - val_loss: 0.5583 - val_accuracy: 0.7225\n",
      "Epoch 46/100\n",
      "56000/56000 [==============================] - 4s 63us/step - loss: 0.5557 - accuracy: 0.7248 - val_loss: 0.5571 - val_accuracy: 0.7264\n",
      "Epoch 47/100\n",
      "56000/56000 [==============================] - 4s 64us/step - loss: 0.5563 - accuracy: 0.7244 - val_loss: 0.5618 - val_accuracy: 0.7203\n",
      "Epoch 48/100\n",
      "56000/56000 [==============================] - 4s 67us/step - loss: 0.5551 - accuracy: 0.7237 - val_loss: 0.5600 - val_accuracy: 0.7189\n",
      "Epoch 49/100\n",
      "56000/56000 [==============================] - 3s 62us/step - loss: 0.5555 - accuracy: 0.7253 - val_loss: 0.5719 - val_accuracy: 0.7135\n",
      "Epoch 50/100\n",
      "56000/56000 [==============================] - 3s 60us/step - loss: 0.5552 - accuracy: 0.7262 - val_loss: 0.5630 - val_accuracy: 0.7244\n",
      "Epoch 51/100\n",
      "56000/56000 [==============================] - 3s 61us/step - loss: 0.5550 - accuracy: 0.7250 - val_loss: 0.5578 - val_accuracy: 0.7238\n",
      "Epoch 52/100\n",
      "56000/56000 [==============================] - 3s 62us/step - loss: 0.5553 - accuracy: 0.7244 - val_loss: 0.5575 - val_accuracy: 0.7246\n",
      "Epoch 53/100\n",
      "56000/56000 [==============================] - 3s 62us/step - loss: 0.5546 - accuracy: 0.7249 - val_loss: 0.5674 - val_accuracy: 0.7159\n",
      "Epoch 54/100\n",
      "56000/56000 [==============================] - 3s 62us/step - loss: 0.5541 - accuracy: 0.7272 - val_loss: 0.5599 - val_accuracy: 0.7208\n",
      "Epoch 55/100\n",
      "56000/56000 [==============================] - 4s 63us/step - loss: 0.5550 - accuracy: 0.7241 - val_loss: 0.5605 - val_accuracy: 0.7249\n"
     ]
    },
    {
     "name": "stdout",
     "output_type": "stream",
     "text": [
      "Epoch 56/100\n",
      "56000/56000 [==============================] - 3s 61us/step - loss: 0.5550 - accuracy: 0.7254 - val_loss: 0.5574 - val_accuracy: 0.7252\n",
      "Epoch 57/100\n",
      "56000/56000 [==============================] - 3s 62us/step - loss: 0.5539 - accuracy: 0.7261 - val_loss: 0.5596 - val_accuracy: 0.7224\n",
      "Epoch 58/100\n",
      "56000/56000 [==============================] - 4s 63us/step - loss: 0.5547 - accuracy: 0.7246 - val_loss: 0.5594 - val_accuracy: 0.7248\n",
      "Epoch 59/100\n",
      "56000/56000 [==============================] - 4s 65us/step - loss: 0.5542 - accuracy: 0.7257 - val_loss: 0.5567 - val_accuracy: 0.7259\n",
      "Epoch 60/100\n",
      "56000/56000 [==============================] - 3s 61us/step - loss: 0.5537 - accuracy: 0.7252 - val_loss: 0.5675 - val_accuracy: 0.7160\n",
      "Epoch 61/100\n",
      "56000/56000 [==============================] - 3s 61us/step - loss: 0.5534 - accuracy: 0.7258 - val_loss: 0.5627 - val_accuracy: 0.7183\n",
      "Epoch 62/100\n",
      "56000/56000 [==============================] - 3s 62us/step - loss: 0.5549 - accuracy: 0.7261 - val_loss: 0.5560 - val_accuracy: 0.7261\n",
      "Epoch 63/100\n",
      "56000/56000 [==============================] - 3s 62us/step - loss: 0.5535 - accuracy: 0.7259 - val_loss: 0.5716 - val_accuracy: 0.7122\n",
      "Epoch 64/100\n",
      "56000/56000 [==============================] - 3s 62us/step - loss: 0.5539 - accuracy: 0.7237 - val_loss: 0.5563 - val_accuracy: 0.7251\n",
      "Epoch 65/100\n",
      "56000/56000 [==============================] - 3s 62us/step - loss: 0.5533 - accuracy: 0.7273 - val_loss: 0.5578 - val_accuracy: 0.7206\n",
      "Epoch 66/100\n",
      "56000/56000 [==============================] - 4s 64us/step - loss: 0.5536 - accuracy: 0.7268 - val_loss: 0.5571 - val_accuracy: 0.7211\n",
      "Epoch 67/100\n",
      "56000/56000 [==============================] - 4s 66us/step - loss: 0.5534 - accuracy: 0.7259 - val_loss: 0.5780 - val_accuracy: 0.7046\n",
      "Epoch 68/100\n",
      "56000/56000 [==============================] - 4s 63us/step - loss: 0.5534 - accuracy: 0.7253 - val_loss: 0.5606 - val_accuracy: 0.7233\n",
      "Epoch 69/100\n",
      "56000/56000 [==============================] - 4s 63us/step - loss: 0.5530 - accuracy: 0.7257 - val_loss: 0.5592 - val_accuracy: 0.7246\n",
      "Epoch 70/100\n",
      "56000/56000 [==============================] - 3s 62us/step - loss: 0.5532 - accuracy: 0.7253 - val_loss: 0.5564 - val_accuracy: 0.7257\n",
      "Epoch 71/100\n",
      "56000/56000 [==============================] - 3s 62us/step - loss: 0.5529 - accuracy: 0.7273 - val_loss: 0.5587 - val_accuracy: 0.7224\n",
      "Epoch 72/100\n",
      "56000/56000 [==============================] - 4s 64us/step - loss: 0.5527 - accuracy: 0.7257 - val_loss: 0.5672 - val_accuracy: 0.7178\n",
      "Epoch 73/100\n",
      "56000/56000 [==============================] - 3s 62us/step - loss: 0.5529 - accuracy: 0.7265 - val_loss: 0.5543 - val_accuracy: 0.7279\n",
      "Epoch 74/100\n",
      "56000/56000 [==============================] - 3s 62us/step - loss: 0.5527 - accuracy: 0.7263 - val_loss: 0.5641 - val_accuracy: 0.7219\n",
      "Epoch 75/100\n",
      "56000/56000 [==============================] - 4s 66us/step - loss: 0.5521 - accuracy: 0.7277 - val_loss: 0.5547 - val_accuracy: 0.7259\n",
      "Epoch 76/100\n",
      "56000/56000 [==============================] - 4s 63us/step - loss: 0.5523 - accuracy: 0.7264 - val_loss: 0.5637 - val_accuracy: 0.7212\n",
      "Epoch 77/100\n",
      "56000/56000 [==============================] - 3s 61us/step - loss: 0.5524 - accuracy: 0.7270 - val_loss: 0.5607 - val_accuracy: 0.7212\n",
      "Epoch 78/100\n",
      "56000/56000 [==============================] - 3s 62us/step - loss: 0.5527 - accuracy: 0.7258 - val_loss: 0.5585 - val_accuracy: 0.7216\n",
      "Epoch 79/100\n",
      "56000/56000 [==============================] - 3s 62us/step - loss: 0.5527 - accuracy: 0.7260 - val_loss: 0.5574 - val_accuracy: 0.7249\n",
      "Epoch 80/100\n",
      "56000/56000 [==============================] - 3s 62us/step - loss: 0.5520 - accuracy: 0.7269 - val_loss: 0.5562 - val_accuracy: 0.7256\n",
      "Epoch 81/100\n",
      "56000/56000 [==============================] - 4s 64us/step - loss: 0.5527 - accuracy: 0.7278 - val_loss: 0.5584 - val_accuracy: 0.7230\n",
      "Epoch 82/100\n",
      "56000/56000 [==============================] - 4s 65us/step - loss: 0.5525 - accuracy: 0.7264 - val_loss: 0.5556 - val_accuracy: 0.7246\n",
      "Epoch 83/100\n",
      "56000/56000 [==============================] - 3s 62us/step - loss: 0.5520 - accuracy: 0.7252 - val_loss: 0.5592 - val_accuracy: 0.7211\n",
      "Epoch 84/100\n",
      "56000/56000 [==============================] - 3s 62us/step - loss: 0.5520 - accuracy: 0.7268 - val_loss: 0.5733 - val_accuracy: 0.7097\n",
      "Epoch 85/100\n",
      "56000/56000 [==============================] - 4s 63us/step - loss: 0.5521 - accuracy: 0.7287 - val_loss: 0.5548 - val_accuracy: 0.7269\n",
      "Epoch 86/100\n",
      "56000/56000 [==============================] - 3s 62us/step - loss: 0.5527 - accuracy: 0.7273 - val_loss: 0.5588 - val_accuracy: 0.7207\n",
      "Epoch 87/100\n",
      "56000/56000 [==============================] - 3s 62us/step - loss: 0.5523 - accuracy: 0.7266 - val_loss: 0.5595 - val_accuracy: 0.7221\n",
      "Epoch 88/100\n",
      "56000/56000 [==============================] - 3s 62us/step - loss: 0.5522 - accuracy: 0.7276 - val_loss: 0.5565 - val_accuracy: 0.7238\n",
      "Epoch 89/100\n",
      "56000/56000 [==============================] - 3s 62us/step - loss: 0.5523 - accuracy: 0.7276 - val_loss: 0.5555 - val_accuracy: 0.7271\n",
      "Epoch 90/100\n",
      "56000/56000 [==============================] - 4s 63us/step - loss: 0.5519 - accuracy: 0.7286 - val_loss: 0.5590 - val_accuracy: 0.7285\n",
      "Epoch 91/100\n",
      "56000/56000 [==============================] - 4s 64us/step - loss: 0.5516 - accuracy: 0.7289 - val_loss: 0.5553 - val_accuracy: 0.7263\n",
      "Epoch 92/100\n",
      "56000/56000 [==============================] - 3s 61us/step - loss: 0.5516 - accuracy: 0.7281 - val_loss: 0.5580 - val_accuracy: 0.7224\n",
      "Epoch 93/100\n",
      "56000/56000 [==============================] - 3s 62us/step - loss: 0.5513 - accuracy: 0.7278 - val_loss: 0.5561 - val_accuracy: 0.7239\n",
      "Epoch 94/100\n",
      "56000/56000 [==============================] - 3s 61us/step - loss: 0.5513 - accuracy: 0.7268 - val_loss: 0.5617 - val_accuracy: 0.7210\n",
      "Epoch 95/100\n",
      "56000/56000 [==============================] - 3s 62us/step - loss: 0.5512 - accuracy: 0.7276 - val_loss: 0.5548 - val_accuracy: 0.7234\n",
      "Epoch 96/100\n",
      "56000/56000 [==============================] - 3s 62us/step - loss: 0.5512 - accuracy: 0.7279 - val_loss: 0.5546 - val_accuracy: 0.7261\n",
      "Epoch 97/100\n",
      "56000/56000 [==============================] - 3s 62us/step - loss: 0.5508 - accuracy: 0.7281 - val_loss: 0.5555 - val_accuracy: 0.7270\n",
      "Epoch 98/100\n",
      "56000/56000 [==============================] - 3s 62us/step - loss: 0.5515 - accuracy: 0.7278 - val_loss: 0.5594 - val_accuracy: 0.7281\n",
      "Epoch 99/100\n",
      "56000/56000 [==============================] - 3s 62us/step - loss: 0.5518 - accuracy: 0.7283 - val_loss: 0.5563 - val_accuracy: 0.7242\n",
      "Epoch 100/100\n",
      "56000/56000 [==============================] - 3s 62us/step - loss: 0.5507 - accuracy: 0.7291 - val_loss: 0.5550 - val_accuracy: 0.7253\n"
     ]
    }
   ],
   "source": [
    "# Fit\n",
    "\n",
    "history = model.fit(X, Y, validation_split = 0.20, epochs = 100, batch_size = 16)\n"
   ]
  },
  {
   "cell_type": "code",
   "execution_count": 13,
   "metadata": {},
   "outputs": [
    {
     "name": "stdout",
     "output_type": "stream",
     "text": [
      "70000/70000 [==============================] - 1s 12us/step\n",
      "\n",
      "accuracy: 72.83%\n"
     ]
    }
   ],
   "source": [
    "# Evaluate\n",
    "\n",
    "scores = model.evaluate(X, Y)\n",
    "print(\"\\n%s: %.2f%%\" % (model.metrics_names[1], scores[1]*100))\n"
   ]
  },
  {
   "cell_type": "code",
   "execution_count": 14,
   "metadata": {},
   "outputs": [
    {
     "data": {
      "text/plain": [
       "array([[0.15277979],\n",
       "       [0.8431524 ],\n",
       "       [0.8098912 ],\n",
       "       ...,\n",
       "       [0.937191  ],\n",
       "       [0.65303767],\n",
       "       [0.4032498 ]], dtype=float32)"
      ]
     },
     "execution_count": 14,
     "metadata": {},
     "output_type": "execute_result"
    }
   ],
   "source": [
    "# Predict\n",
    "\n",
    "model.predict(X)\n"
   ]
  },
  {
   "cell_type": "code",
   "execution_count": 15,
   "metadata": {},
   "outputs": [
    {
     "name": "stdout",
     "output_type": "stream",
     "text": [
      "dict_keys(['val_loss', 'val_accuracy', 'loss', 'accuracy'])\n"
     ]
    }
   ],
   "source": [
    "# Compare Validation and Training Results\n",
    "\n",
    "print(history.history.keys())\n"
   ]
  },
  {
   "cell_type": "code",
   "execution_count": 16,
   "metadata": {},
   "outputs": [
    {
     "data": {
      "image/png": "[encoded data removed]",
      "text/plain": [
       "<Figure size 432x288 with 1 Axes>"
      ]
     },
     "metadata": {
      "needs_background": "light"
     },
     "output_type": "display_data"
    }
   ],
   "source": [
    "# Summarize history for Accuracy\n",
    "\n",
    "plt.plot(history.history['accuracy'])\n",
    "plt.plot(history.history['val_accuracy'])\n",
    "plt.title('model accuracy')\n",
    "plt.ylabel('accuracy')\n",
    "plt.xlabel('epoch')\n",
    "plt.legend(['train', 'test'], loc='upper left')\n",
    "plt.show()\n"
   ]
  },
  {
   "cell_type": "code",
   "execution_count": 17,
   "metadata": {},
   "outputs": [
    {
     "data": {
      "image/png": "[encoded data removed]",
      "text/plain": [
       "<Figure size 432x288 with 1 Axes>"
      ]
     },
     "metadata": {
      "needs_background": "light"
     },
     "output_type": "display_data"
    }
   ],
   "source": [
    "# Summarize history for Loss\n",
    "\n",
    "plt.plot(history.history['loss'])\n",
    "plt.plot(history.history['val_loss'])\n",
    "plt.title('model loss')\n",
    "plt.ylabel('loss')\n",
    "plt.xlabel('epoch')\n",
    "plt.legend(['train', 'test'], loc='upper left')\n",
    "plt.show()\n"
   ]
  },
  {
   "cell_type": "code",
   "execution_count": 18,
   "metadata": {},
   "outputs": [
    {
     "data": {
      "text/plain": [
       "array([[0.14183079]], dtype=float32)"
      ]
     },
     "execution_count": 18,
     "metadata": {},
     "output_type": "execute_result"
    }
   ],
   "source": [
    "myX_false = [[47,1,156,56.0,100,60,1,1,0,0,0]]\n",
    "myX_true = [[48,2,169,82.0,150,100,1,1,0,0,1]]\n",
    "matrixX=np.array(myX_false, dtype = np.float64)\n",
    "X_input = matrixX[:,0:11]\n",
    "model.predict(X_input)\n"
   ]
  },
  {
   "cell_type": "code",
   "execution_count": null,
   "metadata": {},
   "outputs": [],
   "source": []
  }
 ],
 "metadata": {
  "kernelspec": {
   "display_name": "Python 3",
   "language": "python",
   "name": "python3"
  },
  "language_info": {
   "codemirror_mode": {
    "name": "ipython",
    "version": 3
   },
   "file_extension": ".py",
   "mimetype": "text/x-python",
   "name": "python",
   "nbconvert_exporter": "python",
   "pygments_lexer": "ipython3",
   "version": "3.7.4"
  }
 },
 "nbformat": 4,
 "nbformat_minor": 2
}
